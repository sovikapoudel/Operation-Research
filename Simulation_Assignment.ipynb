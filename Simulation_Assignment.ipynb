{
  "nbformat": 4,
  "nbformat_minor": 0,
  "metadata": {
    "colab": {
      "provenance": [],
      "authorship_tag": "ABX9TyP3YOHcpG0lOVfNQ08D4W5f",
      "include_colab_link": true
    },
    "kernelspec": {
      "name": "python3",
      "display_name": "Python 3"
    },
    "language_info": {
      "name": "python"
    }
  },
  "cells": [
    {
      "cell_type": "markdown",
      "metadata": {
        "id": "view-in-github",
        "colab_type": "text"
      },
      "source": [
        "<a href=\"https://colab.research.google.com/github/sovikapoudel/Operation-Research/blob/main/Simulation_Assignment.ipynb\" target=\"_parent\"><img src=\"https://colab.research.google.com/assets/colab-badge.svg\" alt=\"Open In Colab\"/></a>"
      ]
    },
    {
      "cell_type": "markdown",
      "source": [
        "####On exam 1, I proposed the problem of having 10 cases of water with 10 bottles in each case and 10 oz in each bottle. One case is known to be filled with one ounce less than all the other bottles. Jacob proposed a random selection method for finding the case with the bottles that have less water. Essentially he'll pull one bottle and test it. If it is 9 ounces, he has found the case that is short. Let's explore this random test.\n",
        "\n",
        "1. Write a random function call that returns 10 ounces 9 out of 10 times and 9 ounces one out of ten.\n",
        "2. What is the expected weight of a random pull?\n",
        "\n",
        "3.   Test your expected weight by running a simulation drawing at least 100 bottles and taking the average of the wieghts. Does it agree with your theoretical result?\n",
        "4. We are particuarly interested in how many pulls would be required to find the case that was short. If you test one at a time, how many pulls do you expect before you find the case that is short?\n",
        "\n",
        "5. Create a function that creates a sequence of pulling bottles and stops when you find the bottle with 9 ounces. Test this function a bunch of times. Do you notice anything odd when comparing it to your previous result?\n",
        "\n",
        "6. Propose a modification to the coding you did in the first step that would improve the results. Hint: Consider a different data structure that would be more applicable to the real world case.\n"
      ],
      "metadata": {
        "id": "kci4mXzaGhC0"
      }
    },
    {
      "cell_type": "markdown",
      "source": [
        "##Random Function"
      ],
      "metadata": {
        "id": "-ZmcLywNQygj"
      }
    },
    {
      "cell_type": "code",
      "execution_count": null,
      "metadata": {
        "colab": {
          "base_uri": "https://localhost:8080/"
        },
        "id": "pTFIgu0FF5Wt",
        "outputId": "7fa4ade1-41e3-4589-a040-7ce319b8bb82"
      },
      "outputs": [
        {
          "output_type": "execute_result",
          "data": {
            "text/plain": [
              "[10, 10, 10, 10, 10, 10, 10, 9, 10, 10]"
            ]
          },
          "metadata": {},
          "execution_count": 67
        }
      ],
      "source": [
        "def findlesswater():\n",
        "  global cases_weight #I will be using this variable outside of function so making it globally accessible\n",
        "  cases_weight =[9]+[10]*9 ##this will create a list of water cases with nine 10 ounces and one 9 ounces\n",
        "  random.shuffle(cases_weight) #this will shuffle list randomly.\n",
        "  return cases_weight\n",
        "findlesswater()"
      ]
    },
    {
      "cell_type": "code",
      "source": [
        "import random\n",
        "result= random.choices(cases_weight)[0] ##[0] is there just to access the element form result, if it is not provided then the result will be printed as a list\n",
        "print (result)"
      ],
      "metadata": {
        "colab": {
          "base_uri": "https://localhost:8080/"
        },
        "id": "1Gmkmf_UQdBW",
        "outputId": "ff979f13-74db-4c41-bebc-a3b0e7da39e6"
      },
      "execution_count": null,
      "outputs": [
        {
          "output_type": "stream",
          "name": "stdout",
          "text": [
            "10\n"
          ]
        }
      ]
    },
    {
      "cell_type": "markdown",
      "source": [
        "##Expected Weight"
      ],
      "metadata": {
        "id": "ldkuHuphQs8H"
      }
    },
    {
      "cell_type": "markdown",
      "source": [
        "####Expected Weight=P(Weight=10)×Weight 1 +P(Weight=9)×Weight 2\n",
        "\n",
        "####=(9/10 * 10) + (1/10 * 9) = 9+0.9 = 9.9"
      ],
      "metadata": {
        "id": "I4ceqvX_Q2vA"
      }
    },
    {
      "cell_type": "code",
      "source": [
        "def expected_weight():\n",
        "    bottle_weights = findlesswater() #list of each bottle's weights from each cases\n",
        "    total_bottles = len(bottle_weights) #10\n",
        "    total_weight = sum(bottle_weights) #99\n",
        "\n",
        "    expected_weight = total_weight / total_bottles\n",
        "    return expected_weight\n",
        "\n",
        "result = expected_weight()\n",
        "print(\"The expected weight of a random pull is: \"+ str(result) + \" ounces.\") #using str to change the float data type to string"
      ],
      "metadata": {
        "colab": {
          "base_uri": "https://localhost:8080/"
        },
        "id": "0keIOnuP__oF",
        "outputId": "ae64ff6e-10a1-44ce-bdf6-33c01f2bb6d7"
      },
      "execution_count": null,
      "outputs": [
        {
          "output_type": "stream",
          "name": "stdout",
          "text": [
            "The expected weight of a random pull is: 9.9 ounces.\n"
          ]
        }
      ]
    },
    {
      "cell_type": "code",
      "source": [
        "def find_short_case():\n",
        "  pulls_required=0\n",
        "  while True:\n",
        "    pulls_required+=1\n",
        "    selected_bottle=random.choice(cases_weight)\n",
        "    if selected_bottle==9:\n",
        "      break\n",
        "  return pulls_required\n",
        "\n",
        "total_simulation=100\n",
        "total_pulls=sum(find_short_case() for _ in range(total_simulation))\n",
        "avg_pulls = total_pulls / total_simulation\n",
        "print(find_short_case())\n",
        "print(avg_pulls)"
      ],
      "metadata": {
        "colab": {
          "base_uri": "https://localhost:8080/"
        },
        "id": "_VySh3rq__gs",
        "outputId": "67b65f7d-0363-4af2-f3b6-d828ffb55715"
      },
      "execution_count": null,
      "outputs": [
        {
          "output_type": "stream",
          "name": "stdout",
          "text": [
            "6\n",
            "10.68\n"
          ]
        }
      ]
    }
  ]
}