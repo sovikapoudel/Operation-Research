{
  "nbformat": 4,
  "nbformat_minor": 0,
  "metadata": {
    "colab": {
      "provenance": [],
      "authorship_tag": "ABX9TyOVzvFK/PnFY21tcpShqPSB",
      "include_colab_link": true
    },
    "kernelspec": {
      "name": "python3",
      "display_name": "Python 3"
    },
    "language_info": {
      "name": "python"
    }
  },
  "cells": [
    {
      "cell_type": "markdown",
      "metadata": {
        "id": "view-in-github",
        "colab_type": "text"
      },
      "source": [
        "<a href=\"https://colab.research.google.com/github/sovikapoudel/Operation-Research/blob/main/Simulation_Assignment.ipynb\" target=\"_parent\"><img src=\"https://colab.research.google.com/assets/colab-badge.svg\" alt=\"Open In Colab\"/></a>"
      ]
    },
    {
      "cell_type": "markdown",
      "source": [
        "####On exam 1, I proposed the problem of having 10 cases of water with 10 bottles in each case and 10 oz in each bottle. One case is known to be filled with one ounce less than all the other bottles. Jacob proposed a random selection method for finding the case with the bottles that have less water. Essentially he'll pull one bottle and test it. If it is 9 ounces, he has found the case that is short. Let's explore this random test.\n",
        "\n",
        "1. Write a random function call that returns 10 ounces 9 out of 10 times and 9 ounces one out of ten.\n",
        "2. What is the expected weight of a random pull?\n",
        "\n",
        "3.   Test your expected weight by running a simulation drawing at least 100 bottles and taking the average of the wieghts. Does it agree with your theoretical result?\n",
        "4. We are particuarly interested in how many pulls would be required to find the case that was short. If you test one at a time, how many pulls do you expect before you find the case that is short?\n",
        "\n",
        "5. Create a function that creates a sequence of pulling bottles and stops when you find the bottle with 9 ounces. Test this function a bunch of times. Do you notice anything odd when comparing it to your previous result?\n",
        "\n",
        "6. Propose a modification to the coding you did in the first step that would improve the results. Hint: Consider a different data structure that would be more applicable to the real world case.\n"
      ],
      "metadata": {
        "id": "kci4mXzaGhC0"
      }
    },
    {
      "cell_type": "markdown",
      "source": [
        "##Random Function"
      ],
      "metadata": {
        "id": "-ZmcLywNQygj"
      }
    },
    {
      "cell_type": "code",
      "execution_count": 119,
      "metadata": {
        "colab": {
          "base_uri": "https://localhost:8080/"
        },
        "id": "pTFIgu0FF5Wt",
        "outputId": "bcfdfb80-e06d-4fee-b2b5-b699613d1524"
      },
      "outputs": [
        {
          "output_type": "execute_result",
          "data": {
            "text/plain": [
              "[10, 10, 10, 10, 10, 10, 10, 9, 10, 10]"
            ]
          },
          "metadata": {},
          "execution_count": 119
        }
      ],
      "source": [
        "import random\n",
        "cases_weight =[9]+[10]*9\n",
        "def findlesswater():\n",
        "  # global cases_weight #I will be using this variable outside of function so making it globally accessible\n",
        "  # cases_weight =[9]+[10]*9 ##this will create a list of water cases with nine 10 ounces and one 9 ounces\n",
        "  random.shuffle(cases_weight) #this will shuffle list randomly.\n",
        "  return cases_weight\n",
        "findlesswater()"
      ]
    },
    {
      "cell_type": "code",
      "source": [
        "import random\n",
        "result= random.choices(cases_weight)[0] ##[0] is there just to access the element form result, if it is not provided then the result will be printed as a list\n",
        "print (result)"
      ],
      "metadata": {
        "colab": {
          "base_uri": "https://localhost:8080/"
        },
        "id": "1Gmkmf_UQdBW",
        "outputId": "8347fc73-eb9d-44f0-b9a6-d0e54c119e1c"
      },
      "execution_count": 120,
      "outputs": [
        {
          "output_type": "stream",
          "name": "stdout",
          "text": [
            "10\n"
          ]
        }
      ]
    },
    {
      "cell_type": "markdown",
      "source": [
        "##Expected Weight"
      ],
      "metadata": {
        "id": "ldkuHuphQs8H"
      }
    },
    {
      "cell_type": "markdown",
      "source": [
        "####Expected Weight=P(Weight=10)×Weight 1 +P(Weight=9)×Weight 2\n",
        "\n",
        "####=(9/10 * 10) + (1/10 * 9) = 9+0.9 = 9.9"
      ],
      "metadata": {
        "id": "I4ceqvX_Q2vA"
      }
    },
    {
      "cell_type": "code",
      "source": [
        "def expected_weight():\n",
        "    bottle_weights = findlesswater() #list of each bottle's weights from each cases\n",
        "    total_bottles = len(bottle_weights) #10\n",
        "    total_weight = sum(bottle_weights) #99\n",
        "\n",
        "    expected_weight = total_weight / total_bottles\n",
        "    return expected_weight\n",
        "\n",
        "result = expected_weight()\n",
        "print(\"The expected weight of a random pull is: \"+ str(result) + \" ounces.\") #using str to change the float data type to string"
      ],
      "metadata": {
        "colab": {
          "base_uri": "https://localhost:8080/"
        },
        "id": "0keIOnuP__oF",
        "outputId": "ad9e697a-608e-4246-8c55-d80ab6552d39"
      },
      "execution_count": 121,
      "outputs": [
        {
          "output_type": "stream",
          "name": "stdout",
          "text": [
            "The expected weight of a random pull is: 9.9 ounces.\n"
          ]
        }
      ]
    },
    {
      "cell_type": "code",
      "source": [
        "##stimulate pulling 100 bottles\n",
        "def simulate_pulls(n):\n",
        "  weight=0\n",
        "  for _ in range(n):\n",
        "    weight += expected_weight()\n",
        "  return weight/n\n",
        "simulate_pulls(100)"
      ],
      "metadata": {
        "colab": {
          "base_uri": "https://localhost:8080/"
        },
        "id": "v_T5_YDv4sr6",
        "outputId": "ce5e30b7-bd11-4752-a572-289376ae291d"
      },
      "execution_count": 122,
      "outputs": [
        {
          "output_type": "execute_result",
          "data": {
            "text/plain": [
              "9.899999999999984"
            ]
          },
          "metadata": {},
          "execution_count": 122
        }
      ]
    },
    {
      "cell_type": "markdown",
      "source": [
        "The expected weight of random pull is 9.9 and the expected weight of random pull by running simulation of 100 bottles is 9.8999999 which is very close to 9.9."
      ],
      "metadata": {
        "id": "nSyUJXvz5y62"
      }
    },
    {
      "cell_type": "code",
      "source": [
        "# cases_weight =[9]+[10]*9\n",
        "# shuffled_case = random.shuffle(cases_weight[:])\n",
        "# print(shuffled_case)\n",
        "\n",
        "##could not use random.shuffle function as it won't create/ copy the list\n",
        "cases_weight = [9] + [10] * 9\n",
        "shuffled_cases_weight = random.sample(cases_weight, len(cases_weight))  # Create a shuffled list\n",
        "print(shuffled_cases_weight)\n",
        "def find_short_case():\n",
        "\n",
        "  pulls_required=0\n",
        "  for i in range(len(cases_weight)):\n",
        "    if shuffled_cases_weight[i]==10:\n",
        "      pulls_required+=1\n",
        "    else:\n",
        "      break;\n",
        "  return pulls_required\n",
        "print(find_short_case())\n",
        "\n"
      ],
      "metadata": {
        "colab": {
          "base_uri": "https://localhost:8080/"
        },
        "id": "_Wek5Ibd6Y1L",
        "outputId": "46891f2b-246c-4e15-f753-60919ffc9e13"
      },
      "execution_count": 219,
      "outputs": [
        {
          "output_type": "stream",
          "name": "stdout",
          "text": [
            "[10, 10, 10, 10, 10, 9, 10, 10, 10, 10]\n",
            "5\n"
          ]
        }
      ]
    },
    {
      "cell_type": "markdown",
      "source": [
        "The above code will run until it finds the bottle that is 9 ounces and breaks if it finds 9 ounces bottle, and the numbers will vary depending in the order of the case as I have shuffled them to be in unique order each time the funtion called."
      ],
      "metadata": {
        "id": "60PpElns9uLM"
      }
    },
    {
      "cell_type": "code",
      "source": [
        "def find_short_case():\n",
        "  pulls_required=0\n",
        "  while True:\n",
        "    pulls_required+=1\n",
        "    selected_bottle=random.choice(cases_weight)\n",
        "    if selected_bottle==9:\n",
        "      break\n",
        "  return pulls_required\n",
        "\n",
        "total_simulation=100\n",
        "total_pulls=sum(find_short_case() for _ in range(total_simulation))\n",
        "avg_pulls = total_pulls / total_simulation\n",
        "print(find_short_case())\n",
        "print(avg_pulls)"
      ],
      "metadata": {
        "colab": {
          "base_uri": "https://localhost:8080/"
        },
        "id": "_VySh3rq__gs",
        "outputId": "16d6b728-e65e-453c-b9b5-c9433e49c9bd"
      },
      "execution_count": 220,
      "outputs": [
        {
          "output_type": "stream",
          "name": "stdout",
          "text": [
            "14\n",
            "10.03\n"
          ]
        }
      ]
    }
  ]
}