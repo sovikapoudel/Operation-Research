{
  "nbformat": 4,
  "nbformat_minor": 0,
  "metadata": {
    "colab": {
      "provenance": [],
      "include_colab_link": true
    },
    "kernelspec": {
      "name": "python3",
      "display_name": "Python 3"
    },
    "language_info": {
      "name": "python"
    }
  },
  "cells": [
    {
      "cell_type": "markdown",
      "metadata": {
        "id": "view-in-github",
        "colab_type": "text"
      },
      "source": [
        "<a href=\"https://colab.research.google.com/github/sovikapoudel/Operation-Research/blob/main/LPAssignment.ipynb\" target=\"_parent\"><img src=\"https://colab.research.google.com/assets/colab-badge.svg\" alt=\"Open In Colab\"/></a>"
      ]
    },
    {
      "cell_type": "markdown",
      "source": [
        "# Linear Programming Assignment"
      ],
      "metadata": {
        "id": "31GxmqsFEuzW"
      }
    },
    {
      "cell_type": "markdown",
      "source": [
        "## Redo a WeBWorK Question Using Python"
      ],
      "metadata": {
        "id": "xWsxg3k-EzBs"
      }
    },
    {
      "cell_type": "markdown",
      "source": [
        "Consider WW Set 03 Problem 3.  Using python, do the following:\n",
        "1. Copy your problem here.\n",
        "1. Find corner points.  \n",
        "2. Graph feasible set.\n",
        "3. Find the corner that maximizes the objective function $P = 3x+2y$.\n",
        "4. Introduce slack variables, find the corner points again."
      ],
      "metadata": {
        "id": "eLQofNfAGgoS"
      }
    },
    {
      "cell_type": "markdown",
      "source": [
        "Set 03 Linear Programming: Problem 3"
      ],
      "metadata": {
        "id": "JLcdfbyVtfaF"
      }
    },
    {
      "cell_type": "markdown",
      "source": [
        "$$\n",
        "\\left\\{\n",
        "\\begin{array}{l}\n",
        "x+y\\leq 3\\\\\n",
        "8x+y\\geq 4\\\\\n",
        "x\\geq 0\\\\\n",
        "y\\geq 0\\\\\n",
        "\\end{array}\n",
        "\\right.\n",
        "$$"
      ],
      "metadata": {
        "id": "1o7058h1tLFa"
      }
    },
    {
      "cell_type": "code",
      "source": [
        "import numpy as np\n",
        "\n",
        "A = np.array([[1,1],[8,1]])\n",
        "B=np.array([3, 4])\n",
        "np.linalg.solve(A,B)"
      ],
      "metadata": {
        "colab": {
          "base_uri": "https://localhost:8080/"
        },
        "id": "Wvzvo774S2Bk",
        "outputId": "3655a23b-4cc5-4a66-de89-35cf5d139206"
      },
      "execution_count": null,
      "outputs": [
        {
          "output_type": "execute_result",
          "data": {
            "text/plain": [
              "array([0.14285714, 2.85714286])"
            ]
          },
          "metadata": {},
          "execution_count": 46
        }
      ]
    },
    {
      "cell_type": "code",
      "source": [
        "np.linalg.solve(A[[0,1],:],B[[0,1]]) #same as above in this case"
      ],
      "metadata": {
        "id": "31w3XNkowmVH",
        "outputId": "04efe3ac-0ca8-4b15-9cce-8bc95b294c44",
        "colab": {
          "base_uri": "https://localhost:8080/"
        }
      },
      "execution_count": null,
      "outputs": [
        {
          "output_type": "execute_result",
          "data": {
            "text/plain": [
              "array([0.14285714, 2.85714286])"
            ]
          },
          "metadata": {},
          "execution_count": 47
        }
      ]
    },
    {
      "cell_type": "code",
      "source": [
        "import matplotlib.pyplot as plt\n",
        "\n",
        "y1 = (3-x)\n",
        "y3=(0*x) #just to see the scatter plot,I added the line to resemble origin\n",
        "y2 = (4-8*x)\n",
        "\n",
        "plt.xlim([0,5])\n",
        "plt.ylim([-1,5])\n",
        "plt.plot(x,y3, color = \"red\")#just to see the scatter plot,I added the line to resemble origin\n",
        "plt.plot(x,y1, color = \"blue\")\n",
        "plt.plot(x,y2, color = \"black\")\n",
        "plt.scatter(0.143,2.857, color = \"black\")\n",
        "plt.scatter(3, 0, color = \"blue\")\n",
        "plt.scatter(0.5, 0, color = \"red\")\n",
        "plt.show()"
      ],
      "metadata": {
        "id": "s7HolJ8DT541",
        "outputId": "f8a5c5cf-5d4d-41b5-916c-afa40dd4b382",
        "colab": {
          "base_uri": "https://localhost:8080/",
          "height": 435
        }
      },
      "execution_count": null,
      "outputs": [
        {
          "output_type": "display_data",
          "data": {
            "text/plain": [
              "<Figure size 640x480 with 1 Axes>"
            ],
            "image/png": "[encoded data removed]"
          },
          "metadata": {}
        }
      ]
    },
    {
      "cell_type": "markdown",
      "source": [
        "My feasible region lies in between the black, blue and red lines. No need to add red line as it passes along the x axis when y is 0, but the scatter plot was not shown nicely so lifting a graph by unit and plotting red line made it easier to see/visualize feasible region (traingle)."
      ],
      "metadata": {
        "id": "KQFT67Iv5cKa"
      }
    },
    {
      "cell_type": "markdown",
      "source": [
        "now let's find the corner that maximizes the objective function  P=3x+2y ."
      ],
      "metadata": {
        "id": "ELchNSipbkP-"
      }
    },
    {
      "cell_type": "markdown",
      "source": [
        "To maximize the profit, we can check by subsituting the points to profit equation. From graph we know our points are(0.143, 2.857), (3, 0), (0.5,0)"
      ],
      "metadata": {
        "id": "JpVAchP_61-O"
      }
    },
    {
      "cell_type": "code",
      "source": [
        "p=3*0.143+2*2.857\n",
        "p1=3*3+2*0\n",
        "p3=3*0.5+2*0\n",
        "print(p1, p2, p3)"
      ],
      "metadata": {
        "id": "sP2gl3oTbfdh",
        "outputId": "f1c93140-cd17-4d7b-f088-9e8063ce2142",
        "colab": {
          "base_uri": "https://localhost:8080/"
        }
      },
      "execution_count": null,
      "outputs": [
        {
          "output_type": "stream",
          "name": "stdout",
          "text": [
            "9 1.5 1.5\n"
          ]
        }
      ]
    },
    {
      "cell_type": "markdown",
      "source": [
        "we see the maximum is 9 when x,y are 0.143, 2.857."
      ],
      "metadata": {
        "id": "nGZrqSICcC_M"
      }
    },
    {
      "cell_type": "markdown",
      "source": [
        "Introduce slack variables, find the corner points again.\n",
        "\n",
        "$$\n",
        "\\left\\{\n",
        "\\begin{array}{l}\n",
        "x+y+s1\\leq 3\\\\\n",
        "8x+y+s2\\geq 4\\\\\n",
        "x\\geq 0\\\\\n",
        "y\\geq 0\\\\\n",
        "\\end{array}\n",
        "\\right.\n",
        "$$\n",
        "\n",
        "Now the cornor points with slack x=y=0, our objective function is 0"
      ],
      "metadata": {
        "id": "7vxSsUKLcQj9"
      }
    },
    {
      "cell_type": "markdown",
      "source": [
        "## Redo a WeBWorK Question Using Python"
      ],
      "metadata": {
        "id": "OwGWpGToIx-L"
      }
    },
    {
      "cell_type": "markdown",
      "source": [
        "Consider WW Set 04 Problem 6.  Using python, do the following:\n",
        "1. Write the equations that describe the problem completely using $\\LaTeX$ encoding.   \n",
        "1. Find corner points.  \n",
        "2. Graph feasible set.\n",
        "3. Find the corner that maximizes the objective function.\n",
        "4. Introduce slack variables, find the corner points again."
      ],
      "metadata": {
        "id": "H7uUoaW6Ix-O"
      }
    },
    {
      "cell_type": "markdown",
      "source": [
        "###Suppose you walk for w hours at 5 miles per hour and then drive a car for d hours at 45 miles per hour, covering a total distance of 60 miles.\n",
        "\n",
        "####(a) Write a constraint equation that relates the time spent walking and driving to the total distance covered.\n",
        "$$\n",
        "5w+45d=60\n",
        "$$\n",
        "\n",
        "#### (b) If you only walk and do not drive, how much time do you spend walking?\n",
        "$$\n",
        "w=12\n",
        "$$\n",
        "#### (c) If you only drive and do not walk, how much time do you spend driving?\n",
        "$$\n",
        "d=60/45\n",
        "$$\n",
        "#### (d) Find a solution to your equation in part (a) that has spends some time driving and some time walking.\n",
        "\n",
        "$$\n",
        "w=3\\\\\n",
        "d=1\n",
        "$$"
      ],
      "metadata": {
        "id": "8f5wyNPvrjNs"
      }
    },
    {
      "cell_type": "code",
      "source": [
        "import matplotlib.pyplot as plt\n",
        "\n",
        "x=[0, 12, 3]\n",
        "y=[4/3, 0, 1]\n",
        "\n",
        "plt.xlim([0,15])\n",
        "plt.ylim([0,5])\n",
        "\n",
        "plt.plot( x[0], y[0], \"go\" ) ##\"go\" argument in the plt.plot() function is used to specify the style of the plotted point\n",
        "plt.plot( x[1], y[1], \"ro\" ) ## r and g is for color and o is for circle marker. I find it cool so added it in my code\n",
        "plt.plot( x[2], y[2], \"ro\" )\n",
        "plt.grid('on')\n",
        "\n",
        "plt.plot(x, y, 'b-')  # This line connects the dots with a bue line\n",
        "plt.grid(True)\n",
        "plt.show()"
      ],
      "metadata": {
        "id": "kGIsoIGtri7_",
        "colab": {
          "base_uri": "https://localhost:8080/",
          "height": 435
        },
        "outputId": "458b1dbe-bb1f-4335-fc24-c3e94a26ab89"
      },
      "execution_count": 29,
      "outputs": [
        {
          "output_type": "display_data",
          "data": {
            "text/plain": [
              "<Figure size 640x480 with 1 Axes>"
            ],
            "image/png": "[encoded data removed]"
          },
          "metadata": {}
        }
      ]
    },
    {
      "cell_type": "markdown",
      "source": [
        "So, the cornor points are:\n",
        "\n",
        "(0,0), (12,0), (0, 4/3)\n",
        "\n",
        "The optimal solution that has spends some time driving and some time walking would be when walk w= 3 and drive d =1\n",
        "\n",
        "$$\n",
        "5w+45d=60\\\\\n",
        "$$\n",
        "$$\n",
        "5*w+45*d=60\\\\\n",
        "$$\n",
        "$$\n",
        "5*3+45*1 = 60\n",
        "$$"
      ],
      "metadata": {
        "id": "6vbW9-H_wQvu"
      }
    },
    {
      "cell_type": "code",
      "source": [],
      "metadata": {
        "id": "mKfm4CHVIx-Q"
      },
      "execution_count": null,
      "outputs": []
    }
  ]
}