{
  "nbformat": 4,
  "nbformat_minor": 0,
  "metadata": {
    "colab": {
      "provenance": [],
      "include_colab_link": true
    },
    "kernelspec": {
      "name": "python3",
      "display_name": "Python 3"
    },
    "language_info": {
      "name": "python"
    }
  },
  "cells": [
    {
      "cell_type": "markdown",
      "metadata": {
        "id": "view-in-github",
        "colab_type": "text"
      },
      "source": [
        "<a href=\"https://colab.research.google.com/github/sovikapoudel/Operation-Research/blob/main/RecursionAssignment.ipynb\" target=\"_parent\"><img src=\"https://colab.research.google.com/assets/colab-badge.svg\" alt=\"Open In Colab\"/></a>"
      ]
    },
    {
      "cell_type": "markdown",
      "source": [
        "# Recursion Assignment\n",
        "\n",
        "Solve the recursion\n",
        "$$\n",
        "f(n) = 7f(n-1)-10f(n-2)\\quad f(0) = 1\\quad f(1)=3\n",
        "$$\n",
        "\n",
        "1. Using mathematical method taught in class to get analytic equation.  Type up details and program function\n",
        "2. Using dynamic programming.\n",
        "3. Using dynamic programming and memoization.\n",
        "4. Compare the results of each function.  Discuss the advantages and disadvantages of each method.  Consider difficulty of solving and the time it would take to get the 1000 entry of the sequence in each of the three solutions."
      ],
      "metadata": {
        "id": "gxO997rzUWoK"
      }
    },
    {
      "cell_type": "markdown",
      "source": [
        "$$\n",
        "f(n) = 7f(n-1)-10f(n-2)\\quad f(0) = 1\\quad f(1)=3\n",
        "$$\n",
        "\n",
        "$$Let's\\ find\\ f(2), \\ f(3),\\ and\\ f(4)\n",
        "$$\n",
        "### .\n",
        "\n",
        "###f(2) = 7f(2-1)-10f(2-2)\n",
        "### = 7* f(1)-10*f(0)\n",
        "### = 7*3-10*1\n",
        "= 21\n",
        "\n",
        "##Similarly,\n",
        "f(3) = 7*f(2)-10*f(1)\n",
        "### = 47\n"
      ],
      "metadata": {
        "id": "zisz3nUvWmoN"
      }
    },
    {
      "cell_type": "markdown",
      "source": [
        "Now let's code and check those value\n"
      ],
      "metadata": {
        "id": "7WrW-N6LcaEv"
      }
    },
    {
      "cell_type": "code",
      "source": [
        "def f(n):\n",
        "  if n==0:\n",
        "    return 1 #given condition\n",
        "  elif n== 1:\n",
        "    return 3 #given condition\n",
        "  else:\n",
        "    result = 7*f(n-1) - 10*f(n-2) #storing in result variable\n",
        "  return result\n",
        "print (f(2))\n",
        "print (f(3))\n",
        "print (f(4))"
      ],
      "metadata": {
        "colab": {
          "base_uri": "https://localhost:8080/"
        },
        "id": "kzGJWFBLXdhf",
        "outputId": "ddad06eb-dc21-408e-8018-52f5041f4bb2"
      },
      "execution_count": 11,
      "outputs": [
        {
          "output_type": "stream",
          "name": "stdout",
          "text": [
            "11\n",
            "47\n",
            "219\n"
          ]
        }
      ]
    },
    {
      "cell_type": "markdown",
      "source": [
        "It perfectly matches the previous solution!!"
      ],
      "metadata": {
        "id": "DNlBXuQwXABy"
      }
    },
    {
      "cell_type": "markdown",
      "source": [
        "let's solve analytically!\n",
        "\n",
        "assume f(n)=ar^n\n",
        "ar^n=7ar^(n-1)−10ar^(n-2)"
      ],
      "metadata": {
        "id": "YcBOQw5Vc9NC"
      }
    },
    {
      "cell_type": "code",
      "execution_count": null,
      "metadata": {
        "id": "mxuJ44JFUVog"
      },
      "outputs": [],
      "source": []
    }
  ]
}