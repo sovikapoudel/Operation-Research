{
  "nbformat": 4,
  "nbformat_minor": 0,
  "metadata": {
    "colab": {
      "provenance": [],
      "include_colab_link": true
    },
    "kernelspec": {
      "name": "python3",
      "display_name": "Python 3"
    },
    "language_info": {
      "name": "python"
    }
  },
  "cells": [
    {
      "cell_type": "markdown",
      "metadata": {
        "id": "view-in-github",
        "colab_type": "text"
      },
      "source": [
        "<a href=\"https://colab.research.google.com/github/sovikapoudel/Operation-Research/blob/main/RecursionAssignment.ipynb\" target=\"_parent\"><img src=\"https://colab.research.google.com/assets/colab-badge.svg\" alt=\"Open In Colab\"/></a>"
      ]
    },
    {
      "cell_type": "markdown",
      "source": [
        "# Recursion Assignment\n",
        "\n",
        "Solve the recursion\n",
        "$$\n",
        "f(n) = 7f(n-1)-10f(n-2)\\quad f(0) = 1\\quad f(1)=3\n",
        "$$\n",
        "\n",
        "1. Using mathematical method taught in class to get analytic equation.  Type up details and program function\n",
        "2. Using dynamic programming.\n",
        "3. Using dynamic programming and memoization.\n",
        "4. Compare the results of each function.  Discuss the advantages and disadvantages of each method.  Consider difficulty of solving and the time it would take to get the 1000 entry of the sequence in each of the three solutions."
      ],
      "metadata": {
        "id": "gxO997rzUWoK"
      }
    },
    {
      "cell_type": "markdown",
      "source": [
        "$$\n",
        "f(n) = 7f(n-1)-10f(n-2)\\quad f(0) = 1\\quad f(1)=3\n",
        "$$\n",
        "\n",
        "$$Let's\\ find\\ f(2), \\ f(3),\\ and\\ f(4)\n",
        "$$\n",
        "### .\n",
        "\n",
        "###f(2) = 7f(2-1)-10f(2-2)\n",
        "### = 7* f(1)-10*f(0)\n",
        "### = 7*(3)-10*(1)\n",
        "###= 21-10\n",
        "##=11\n",
        "\n",
        "##Similarly,\n",
        "f(3) = 7*f(2)-10*f(1)\n",
        "### = 47\n"
      ],
      "metadata": {
        "id": "zisz3nUvWmoN"
      }
    },
    {
      "cell_type": "markdown",
      "source": [
        "Now let's code and check those value\n"
      ],
      "metadata": {
        "id": "7WrW-N6LcaEv"
      }
    },
    {
      "cell_type": "markdown",
      "source": [
        "let's solve analytically!\n",
        "\n",
        "assume f(n)=ar^n\n",
        "ar^n=7ar^(n-1)−10ar^(n-2)"
      ],
      "metadata": {
        "id": "YcBOQw5Vc9NC"
      }
    },
    {
      "cell_type": "markdown",
      "source": [
        "##Now let's solve analytically!\n",
        "\n",
        "assume f(n)=ar^n\n",
        "ar^n=7ar^(n-1)−10ar^(n-2)\n",
        "\n",
        "writing in algebric expression:\n",
        "\n",
        "####a^2-7a+10=0\n",
        "####a^2-5a-2a+10=0\n",
        "####(a-5)(a-2)=0\n",
        "#### a= 5, a= 2 which is our r value\n",
        "\n",
        "##an=ar^n+br^n\n",
        "####a0 = a*1 + b*1\n",
        "#### 1 = a + b----------equation 1\n",
        "and,\n",
        "####a1 = a*5 + b*2\n",
        "#### 3 = 5a + 2b---------equati0n 2\n",
        "\n",
        "now soliving equation 1 and 2 we get,\n",
        "\n",
        "#### a= 1/3 and b= 2/3\n",
        "\n",
        "#### so an = 1/3* 5^n+2/3*2^n\n",
        "\n",
        "lets try for f(3)\n",
        "#### a3=1/3 * 5^3+2/3*2^3\n",
        "#### a3= 47\n",
        "\n",
        "Similarly,\n",
        "\n",
        "a4=219"
      ],
      "metadata": {
        "id": "NZbR0yWjv-zw"
      }
    },
    {
      "cell_type": "markdown",
      "source": [],
      "metadata": {
        "id": "8qo9W0mp2XEI"
      }
    },
    {
      "cell_type": "code",
      "source": [
        "def f(n):\n",
        "  if n==0:\n",
        "    return 1 #given condition\n",
        "  elif n== 1:\n",
        "    return 3 #given condition\n",
        "  else:\n",
        "    result = 7*f(n-1) - 10*f(n-2) #storing in result variable\n",
        "  return result\n",
        "print (f(2))\n",
        "print (f(3))\n",
        "print (f(4))"
      ],
      "metadata": {
        "colab": {
          "base_uri": "https://localhost:8080/"
        },
        "id": "kzGJWFBLXdhf",
        "outputId": "1d174253-b763-44c4-cc17-15f19af3ff40"
      },
      "execution_count": 23,
      "outputs": [
        {
          "output_type": "stream",
          "name": "stdout",
          "text": [
            "651383\n"
          ]
        }
      ]
    },
    {
      "cell_type": "markdown",
      "source": [
        "It perfectly matches the previous solution!!"
      ],
      "metadata": {
        "id": "DNlBXuQwXABy"
      }
    },
    {
      "cell_type": "markdown",
      "source": [
        "##Memoization"
      ],
      "metadata": {
        "id": "WE8VVlU1wD3k"
      }
    },
    {
      "cell_type": "code",
      "execution_count": 27,
      "metadata": {
        "id": "mxuJ44JFUVog",
        "outputId": "92cfd495-256c-4426-b357-83328cf8de9f",
        "colab": {
          "base_uri": "https://localhost:8080/"
        }
      },
      "outputs": [
        {
          "output_type": "stream",
          "name": "stdout",
          "text": [
            "1\n",
            "11\n",
            "47\n",
            "219\n"
          ]
        }
      ],
      "source": [
        "\n",
        "def f(n):\n",
        "    memo = [None] * (n+1) # Initialize a list to store computed values,\n",
        "                            ##since the index starts with 0\n",
        "                            #create something like this: memo = [None, None, None, None, None....None]\n",
        "    if n == 0:\n",
        "        return 1\n",
        "    elif n == 1:\n",
        "        return 3\n",
        "    elif memo[n] is not None:\n",
        "        return memo[n]\n",
        "    else:\n",
        "        result = 7 * f(n - 1) - 10 * f(n - 2)\n",
        "        memo[n] = result\n",
        "        return result\n",
        "print(f(0))\n",
        "print(f(2))\n",
        "print(f(3))\n",
        "print(f(4))\n"
      ]
    },
    {
      "cell_type": "code",
      "source": [
        "# Initialize a dictionary to store computed values\n",
        "memo = {} #it is better to choose dictionary as it focus on key-value p[air rather than index]\n",
        "\n",
        "def f(n):\n",
        "    if n in memo:\n",
        "        return memo[n]\n",
        "    if n == 0:\n",
        "        return 1\n",
        "    elif n == 1:\n",
        "        return 3\n",
        "    else:\n",
        "        result = 7 * f(n - 1) - 10 * f(n - 2)\n",
        "        memo[n] = result\n",
        "        return result\n",
        "print(f(0))\n",
        "print(f(1))\n",
        "print(f(2))\n",
        "print(f(4))\n"
      ],
      "metadata": {
        "id": "WV8Kr2jTwTA5",
        "outputId": "83fec7aa-1687-4319-d1f2-ef540fd48421",
        "colab": {
          "base_uri": "https://localhost:8080/"
        }
      },
      "execution_count": 43,
      "outputs": [
        {
          "output_type": "stream",
          "name": "stdout",
          "text": [
            "1\n",
            "3\n",
            "11\n",
            "219\n"
          ]
        }
      ]
    },
    {
      "cell_type": "markdown",
      "source": [
        "As the code logic are same, memoization provides conputational efficiency. In a simple dynamic program, f(n) runs multiple time while in memoization it runs once and stores that value so that there are no redundant calculation.\n",
        "\n",
        "Let's check the execution time for both code and see if there's any differences. Also the time may vary depending onm the code and the machine we run our code on to"
      ],
      "metadata": {
        "id": "5dHkis_-z47z"
      }
    },
    {
      "cell_type": "code",
      "source": [
        "import time\n",
        "start_time=time.time()\n",
        "def f(n):\n",
        "  if n==0:\n",
        "    return 1 #given condition\n",
        "  elif n== 1:\n",
        "    return 3 #given condition\n",
        "  else:\n",
        "    result = 7*f(n-1) - 10*f(n-2) #storing in result variable\n",
        "  return result\n",
        "print (f(2))\n",
        "print (f(3))\n",
        "print (f(4))\n",
        "end_time=time.time()\n",
        "time_taken=end_time-start_time\n",
        "\n",
        "print(time_taken)\n"
      ],
      "metadata": {
        "id": "QD9G0XUc2UmF",
        "outputId": "585ecfeb-99e5-4360-8bd8-219e1a4df2a2",
        "colab": {
          "base_uri": "https://localhost:8080/"
        }
      },
      "execution_count": 36,
      "outputs": [
        {
          "output_type": "stream",
          "name": "stdout",
          "text": [
            "11\n",
            "47\n",
            "219\n",
            "0.0031464099884033203\n"
          ]
        }
      ]
    },
    {
      "cell_type": "code",
      "source": [
        "start_time=time.time()\n",
        "def f(n):\n",
        "    memo = [None] * (n+1) # Initialize a list to store computed values,\n",
        "                            ##since the index starts with 0\n",
        "                            #create something like this: memo = [None, None, None, None, None....None]\n",
        "    if n == 0:\n",
        "        return 1\n",
        "    elif n == 1:\n",
        "        return 3\n",
        "    elif memo[n] is not None:\n",
        "        return memo[n]\n",
        "    else:\n",
        "        result = 7 * f(n - 1) - 10 * f(n - 2)\n",
        "        memo[n] = result\n",
        "        return result\n",
        "print (f(2))\n",
        "print (f(3))\n",
        "print (f(4))\n",
        "end_time=time.time()\n",
        "time_taken=end_time-start_time\n",
        "\n",
        "print(time_taken)"
      ],
      "metadata": {
        "outputId": "82d7305f-c937-4164-822d-8dfeb1b4c134",
        "colab": {
          "base_uri": "https://localhost:8080/"
        },
        "id": "mni7esa122NW"
      },
      "execution_count": 41,
      "outputs": [
        {
          "output_type": "stream",
          "name": "stdout",
          "text": [
            "11\n",
            "47\n",
            "219\n",
            "0.0022974014282226562\n"
          ]
        }
      ]
    },
    {
      "cell_type": "markdown",
      "source": [
        "We can see there is a little bit difference betweeen these two computations because of a simple logic and small program. But the impact will be significant in the larger program."
      ],
      "metadata": {
        "id": "HlE9Pl2S4AMX"
      }
    }
  ]
}